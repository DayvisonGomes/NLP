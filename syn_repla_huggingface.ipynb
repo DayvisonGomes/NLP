{
 "cells": [
  {
   "cell_type": "code",
   "execution_count": 1,
   "metadata": {},
   "outputs": [],
   "source": [
    "import pandas as pd\n",
    "from sklearn.model_selection import train_test_split\n",
    "from nltk.corpus import wordnet\n",
    "import random as rd\n",
    "from sklearn.naive_bayes import GaussianNB\n",
    "from sklearn.metrics import classification_report\n",
    "from nltk.tokenize import word_tokenize\n",
    "import ktrain\n",
    "from ktrain import text\n",
    "import nltk\n",
    "import numpy as np"
   ]
  },
  {
   "cell_type": "code",
   "execution_count": 2,
   "metadata": {},
   "outputs": [
    {
     "data": {
      "text/html": [
       "<div>\n",
       "<style scoped>\n",
       "    .dataframe tbody tr th:only-of-type {\n",
       "        vertical-align: middle;\n",
       "    }\n",
       "\n",
       "    .dataframe tbody tr th {\n",
       "        vertical-align: top;\n",
       "    }\n",
       "\n",
       "    .dataframe thead th {\n",
       "        text-align: right;\n",
       "    }\n",
       "</style>\n",
       "<table border=\"1\" class=\"dataframe\">\n",
       "  <thead>\n",
       "    <tr style=\"text-align: right;\">\n",
       "      <th></th>\n",
       "      <th>review</th>\n",
       "      <th>sentiment</th>\n",
       "    </tr>\n",
       "  </thead>\n",
       "  <tbody>\n",
       "    <tr>\n",
       "      <th>0</th>\n",
       "      <td>One of the other reviewers has mentioned that ...</td>\n",
       "      <td>positive</td>\n",
       "    </tr>\n",
       "    <tr>\n",
       "      <th>1</th>\n",
       "      <td>A wonderful little production. &lt;br /&gt;&lt;br /&gt;The...</td>\n",
       "      <td>positive</td>\n",
       "    </tr>\n",
       "    <tr>\n",
       "      <th>2</th>\n",
       "      <td>I thought this was a wonderful way to spend ti...</td>\n",
       "      <td>positive</td>\n",
       "    </tr>\n",
       "    <tr>\n",
       "      <th>3</th>\n",
       "      <td>Basically there's a family where a little boy ...</td>\n",
       "      <td>negative</td>\n",
       "    </tr>\n",
       "    <tr>\n",
       "      <th>4</th>\n",
       "      <td>Petter Mattei's \"Love in the Time of Money\" is...</td>\n",
       "      <td>positive</td>\n",
       "    </tr>\n",
       "    <tr>\n",
       "      <th>...</th>\n",
       "      <td>...</td>\n",
       "      <td>...</td>\n",
       "    </tr>\n",
       "    <tr>\n",
       "      <th>49995</th>\n",
       "      <td>I thought this movie did a down right good job...</td>\n",
       "      <td>positive</td>\n",
       "    </tr>\n",
       "    <tr>\n",
       "      <th>49996</th>\n",
       "      <td>Bad plot, bad dialogue, bad acting, idiotic di...</td>\n",
       "      <td>negative</td>\n",
       "    </tr>\n",
       "    <tr>\n",
       "      <th>49997</th>\n",
       "      <td>I am a Catholic taught in parochial elementary...</td>\n",
       "      <td>negative</td>\n",
       "    </tr>\n",
       "    <tr>\n",
       "      <th>49998</th>\n",
       "      <td>I'm going to have to disagree with the previou...</td>\n",
       "      <td>negative</td>\n",
       "    </tr>\n",
       "    <tr>\n",
       "      <th>49999</th>\n",
       "      <td>No one expects the Star Trek movies to be high...</td>\n",
       "      <td>negative</td>\n",
       "    </tr>\n",
       "  </tbody>\n",
       "</table>\n",
       "<p>50000 rows × 2 columns</p>\n",
       "</div>"
      ],
      "text/plain": [
       "                                                  review sentiment\n",
       "0      One of the other reviewers has mentioned that ...  positive\n",
       "1      A wonderful little production. <br /><br />The...  positive\n",
       "2      I thought this was a wonderful way to spend ti...  positive\n",
       "3      Basically there's a family where a little boy ...  negative\n",
       "4      Petter Mattei's \"Love in the Time of Money\" is...  positive\n",
       "...                                                  ...       ...\n",
       "49995  I thought this movie did a down right good job...  positive\n",
       "49996  Bad plot, bad dialogue, bad acting, idiotic di...  negative\n",
       "49997  I am a Catholic taught in parochial elementary...  negative\n",
       "49998  I'm going to have to disagree with the previou...  negative\n",
       "49999  No one expects the Star Trek movies to be high...  negative\n",
       "\n",
       "[50000 rows x 2 columns]"
      ]
     },
     "execution_count": 2,
     "metadata": {},
     "output_type": "execute_result"
    }
   ],
   "source": [
    "PATH = \"IMDB Dataset.csv\"\n",
    "df = pd.read_csv(PATH)\n",
    "df"
   ]
  },
  {
   "cell_type": "code",
   "execution_count": 80,
   "metadata": {},
   "outputs": [
    {
     "data": {
      "text/plain": [
       "(35576    Mike Hawthorne(Gordon Currie)is witness to the...\n",
       " 19411    This is a semi fictional memoir of an \"interna...\n",
       " 45832    Why oh why can't anyone make a decent film out...\n",
       " 33047    I saw part of this film on the Sci-Fi Channel,...\n",
       " 12759    'The Vampire Bat' is definitely of interest, b...\n",
       "                                ...                        \n",
       " 49601    The Soloist has all ingredients to impress the...\n",
       " 43233    I keep watching this movie over and over and o...\n",
       " 42736    The whole exercise is pointless. Why make the ...\n",
       " 6900     Dolemite may not have been the first black exp...\n",
       " 10517    It doesn't take long to see why Code Name: Dia...\n",
       " Name: review, Length: 49990, dtype: object,\n",
       " 9093     Oh this was a really bad movie. The girl who p...\n",
       " 26307    I have recently found this film on one of my h...\n",
       " 41730    I have loved this movie since I saw it in the ...\n",
       " 32277    My brother is an avid DVD collector. He took o...\n",
       " 31692    Great film, a very worthy 7/10.<br /><br />Tom...\n",
       " 2942     This movie is not worth seeing, at least not a...\n",
       " 9448     Don't say I didn't warn you, but your gonna la...\n",
       " 23191    80 minutes, and it felt twice that long! Brief...\n",
       " 43294    \"Drawing Restraint 9\" is a kind of movie one e...\n",
       " 45704    John Leguizamo must have been insane if he thi...\n",
       " Name: review, dtype: object,\n",
       " 35576    negative\n",
       " 19411    negative\n",
       " 45832    negative\n",
       " 33047    positive\n",
       " 12759    negative\n",
       "            ...   \n",
       " 49601    negative\n",
       " 43233    positive\n",
       " 42736    negative\n",
       " 6900     positive\n",
       " 10517    negative\n",
       " Name: sentiment, Length: 49990, dtype: object,\n",
       " 9093     negative\n",
       " 26307    negative\n",
       " 41730    positive\n",
       " 32277    negative\n",
       " 31692    positive\n",
       " 2942     negative\n",
       " 9448     positive\n",
       " 23191    negative\n",
       " 43294    negative\n",
       " 45704    negative\n",
       " Name: sentiment, dtype: object)"
      ]
     },
     "execution_count": 80,
     "metadata": {},
     "output_type": "execute_result"
    }
   ],
   "source": [
    "X_train, X_test, Y_train, Y_test = train_test_split(df['review'], df['sentiment'], test_size=10)\n",
    "X_train, X_test, Y_train, Y_test"
   ]
  },
  {
   "cell_type": "code",
   "execution_count": 81,
   "metadata": {},
   "outputs": [
    {
     "data": {
      "text/plain": [
       "9093     Oh this was a really bad movie. The girl who p...\n",
       "26307    I have recently found this film on one of my h...\n",
       "41730    I have loved this movie since I saw it in the ...\n",
       "32277    My brother is an avid DVD collector. He took o...\n",
       "31692    Great film, a very worthy 7/10.<br /><br />Tom...\n",
       "2942     This movie is not worth seeing, at least not a...\n",
       "9448     Don't say I didn't warn you, but your gonna la...\n",
       "23191    80 minutes, and it felt twice that long! Brief...\n",
       "43294    \"Drawing Restraint 9\" is a kind of movie one e...\n",
       "45704    John Leguizamo must have been insane if he thi...\n",
       "Name: review, dtype: object"
      ]
     },
     "execution_count": 81,
     "metadata": {},
     "output_type": "execute_result"
    }
   ],
   "source": [
    "X_augmentation = X_test\n",
    "X_augmentation"
   ]
  },
  {
   "cell_type": "code",
   "execution_count": 82,
   "metadata": {},
   "outputs": [
    {
     "name": "stderr",
     "output_type": "stream",
     "text": [
      "[nltk_data] Downloading package punkt to\n",
      "[nltk_data]     C:\\Users\\ddayv\\AppData\\Roaming\\nltk_data...\n",
      "[nltk_data]   Package punkt is already up-to-date!\n"
     ]
    },
    {
     "data": {
      "text/plain": [
       "True"
      ]
     },
     "execution_count": 82,
     "metadata": {},
     "output_type": "execute_result"
    }
   ],
   "source": [
    "nltk.download('punkt')"
   ]
  },
  {
   "cell_type": "code",
   "execution_count": 83,
   "metadata": {},
   "outputs": [
    {
     "name": "stderr",
     "output_type": "stream",
     "text": [
      "[nltk_data] Downloading package stopwords to\n",
      "[nltk_data]     C:\\Users\\ddayv\\AppData\\Roaming\\nltk_data...\n",
      "[nltk_data]   Package stopwords is already up-to-date!\n"
     ]
    },
    {
     "data": {
      "text/plain": [
       "True"
      ]
     },
     "execution_count": 83,
     "metadata": {},
     "output_type": "execute_result"
    }
   ],
   "source": [
    "nltk.download('stopwords')"
   ]
  },
  {
   "cell_type": "code",
   "execution_count": 84,
   "metadata": {},
   "outputs": [],
   "source": [
    "from transformers import pipeline\n",
    "classifier = pipeline('sentiment-analysis')"
   ]
  },
  {
   "cell_type": "code",
   "execution_count": 87,
   "metadata": {},
   "outputs": [
    {
     "name": "stderr",
     "output_type": "stream",
     "text": [
      "c:\\users\\ddayv\\appdata\\local\\programs\\python\\python37\\lib\\site-packages\\pandas\\core\\indexing.py:670: SettingWithCopyWarning: \n",
      "A value is trying to be set on a copy of a slice from a DataFrame\n",
      "\n",
      "See the caveats in the documentation: https://pandas.pydata.org/pandas-docs/stable/user_guide/indexing.html#returning-a-view-versus-a-copy\n",
      "  iloc._setitem_with_indexer(indexer, value)\n"
     ]
    }
   ],
   "source": [
    "y_pred = pd.DataFrame(data={'result':[0,0,0,0,0,0,0,0,0,0] , 'y_test': Y_test}) #testamos com 10 instâncias apenas\n",
    "indices = X_test.index\n",
    "contador = 0\n",
    "for frase in X_test:\n",
    "    linha = frase.replace('<br />','').replace(',','').split('.') #quebramos a frase em uma lista de frases\n",
    "    contpos = 0\n",
    "    contneg = 0\n",
    "    for i in range(len(linha)):\n",
    "        if classifier(linha[i])[0]['label'] == 'POSITIVE':\n",
    "            contpos += 1\n",
    "        else:\n",
    "            contneg += 1\n",
    "    \n",
    "    if contpos >= contneg: #a gente coloca num dataframe de acordo com a moda\n",
    "        y_pred['result'].loc[indices[contador]] = 'positive' \n",
    "    \n",
    "    elif contpos < contneg :\n",
    "        y_pred['result'].loc[indices[contador]] = 'negative'\n",
    "        \n",
    "    contador += 1"
   ]
  },
  {
   "cell_type": "code",
   "execution_count": 88,
   "metadata": {},
   "outputs": [
    {
     "data": {
      "text/html": [
       "<div>\n",
       "<style scoped>\n",
       "    .dataframe tbody tr th:only-of-type {\n",
       "        vertical-align: middle;\n",
       "    }\n",
       "\n",
       "    .dataframe tbody tr th {\n",
       "        vertical-align: top;\n",
       "    }\n",
       "\n",
       "    .dataframe thead th {\n",
       "        text-align: right;\n",
       "    }\n",
       "</style>\n",
       "<table border=\"1\" class=\"dataframe\">\n",
       "  <thead>\n",
       "    <tr style=\"text-align: right;\">\n",
       "      <th></th>\n",
       "      <th>result</th>\n",
       "      <th>y_test</th>\n",
       "    </tr>\n",
       "  </thead>\n",
       "  <tbody>\n",
       "    <tr>\n",
       "      <th>9093</th>\n",
       "      <td>negative</td>\n",
       "      <td>negative</td>\n",
       "    </tr>\n",
       "    <tr>\n",
       "      <th>26307</th>\n",
       "      <td>positive</td>\n",
       "      <td>negative</td>\n",
       "    </tr>\n",
       "    <tr>\n",
       "      <th>41730</th>\n",
       "      <td>positive</td>\n",
       "      <td>positive</td>\n",
       "    </tr>\n",
       "    <tr>\n",
       "      <th>32277</th>\n",
       "      <td>negative</td>\n",
       "      <td>negative</td>\n",
       "    </tr>\n",
       "    <tr>\n",
       "      <th>31692</th>\n",
       "      <td>positive</td>\n",
       "      <td>positive</td>\n",
       "    </tr>\n",
       "    <tr>\n",
       "      <th>2942</th>\n",
       "      <td>negative</td>\n",
       "      <td>negative</td>\n",
       "    </tr>\n",
       "    <tr>\n",
       "      <th>9448</th>\n",
       "      <td>positive</td>\n",
       "      <td>positive</td>\n",
       "    </tr>\n",
       "    <tr>\n",
       "      <th>23191</th>\n",
       "      <td>negative</td>\n",
       "      <td>negative</td>\n",
       "    </tr>\n",
       "    <tr>\n",
       "      <th>43294</th>\n",
       "      <td>negative</td>\n",
       "      <td>negative</td>\n",
       "    </tr>\n",
       "    <tr>\n",
       "      <th>45704</th>\n",
       "      <td>negative</td>\n",
       "      <td>negative</td>\n",
       "    </tr>\n",
       "  </tbody>\n",
       "</table>\n",
       "</div>"
      ],
      "text/plain": [
       "         result    y_test\n",
       "9093   negative  negative\n",
       "26307  positive  negative\n",
       "41730  positive  positive\n",
       "32277  negative  negative\n",
       "31692  positive  positive\n",
       "2942   negative  negative\n",
       "9448   positive  positive\n",
       "23191  negative  negative\n",
       "43294  negative  negative\n",
       "45704  negative  negative"
      ]
     },
     "execution_count": 88,
     "metadata": {},
     "output_type": "execute_result"
    }
   ],
   "source": [
    "y_pred"
   ]
  },
  {
   "cell_type": "code",
   "execution_count": 37,
   "metadata": {},
   "outputs": [],
   "source": [
    "stop_words = ['de', 'a', 'o', 'que', 'e', 'do', 'da', 'em', 'um', 'para', 'é', 'com', 'não', 'uma', 'os', 'no', 'se', 'na', 'por', 'mais', 'as', 'dos', 'como', 'mas', 'foi', 'ao', 'ele', 'das', 'tem', 'à', 'seu', 'sua', 'ou', 'ser', 'quando', 'muito', 'há', 'nos', 'já', 'está', 'eu', 'também', 'só', 'pelo', 'pela', 'até', 'isso', 'ela', 'entre', 'era', 'depois', 'sem', 'mesmo', 'aos', 'ter', 'seus', 'quem', 'nas', 'me', 'esse', 'eles', 'estão', 'você', 'tinha', 'foram', 'essa', 'num', 'nem', 'suas', 'meu', 'às', 'minha', 'têm', 'numa', 'pelos', 'elas', 'havia', 'seja', 'qual', 'será', 'nós', 'tenho', 'lhe', 'deles', 'essas', 'esses', 'pelas', 'este', 'fosse', 'dele', 'tu', 'te', 'vocês', 'vos', 'lhes', 'meus', 'minhas', 'teu', 'tua', 'teus', 'tuas', 'nosso', 'nossa', 'nossos', 'nossas', 'dela', 'delas', 'esta', 'estes', 'estas', 'aquele', 'aquela', 'aqueles', 'aquelas', 'isto', 'aquilo', 'estou', 'está', 'estamos', 'estão', 'estive', 'esteve', 'estivemos', 'estiveram', 'estava', 'estávamos', 'estavam', 'estivera', 'estivéramos', 'esteja', 'estejamos', 'estejam', 'estivesse', 'estivéssemos', 'estivessem', 'estiver', 'estivermos', 'estiverem', 'hei', 'há', 'havemos', 'hão', 'houve', 'houvemos', 'houveram', 'houvera', 'houvéramos', 'haja', 'hajamos', 'hajam', 'houvesse', 'houvéssemos', 'houvessem', 'houver', 'houvermos', 'houverem', 'houverei', 'houverá', 'houveremos', 'houverão', 'houveria', 'houveríamos', 'houveriam', 'sou', 'somos', 'são', 'era', 'éramos', 'eram', 'fui', 'foi', 'fomos', 'foram', 'fora', 'fôramos', 'seja', 'sejamos', 'sejam', 'fosse', 'fôssemos', 'fossem', 'for', 'formos', 'forem', 'serei', 'será', 'seremos', 'serão', 'seria', 'seríamos', 'seriam', 'tenho', 'tem', 'temos', 'tém', 'tinha', 'tínhamos', 'tinham', 'tive', 'teve', 'tivemos', 'tiveram', 'tivera', 'tivéramos', 'tenha', 'tenhamos', 'tenham', 'tivesse', 'tivéssemos', 'tivessem', 'tiver', 'tivermos', 'tiverem', 'terei', 'terá', 'teremos', 'terão', 'teria', 'teríamos', 'teriam']"
   ]
  },
  {
   "cell_type": "code",
   "execution_count": 38,
   "metadata": {},
   "outputs": [],
   "source": [
    "def clean_sentence(sentence):\n",
    "\n",
    "    sentence = sentence.replace('-', '').replace(',', '').replace('<br />', '').lower().lstrip()\n",
    "\n",
    "    sentence = sentence.split(\" \")\n",
    "    sentence = [word for word in sentence if word != '']\n",
    "\n",
    "    return sentence"
   ]
  },
  {
   "cell_type": "code",
   "execution_count": 39,
   "metadata": {},
   "outputs": [],
   "source": [
    "def SR(sentence, n):\n",
    "    \n",
    "    words = sentence.copy()\n",
    "    random_words = list(set([word for word in words if word not in stop_words]))\n",
    "\n",
    "    rd.shuffle(random_words)\n",
    "\n",
    "    n_ = 0\n",
    "\n",
    "    for random_word in random_words:\n",
    "        syns = get_syn(random_word)\n",
    "        if len(syns) >= 1:\n",
    "            syn = rd.choice(list(syns))\n",
    "            words = [syn if word == random_word else word for word in words]\n",
    "            n_ += 1\n",
    "\n",
    "        if n_ >= n:\n",
    "            break\n",
    "\n",
    "    sentence = ' '.join(words)\n",
    "    words = sentence.split(' ')\n",
    "\n",
    "    return \" \".join(words)"
   ]
  },
  {
   "cell_type": "code",
   "execution_count": 40,
   "metadata": {},
   "outputs": [],
   "source": [
    "def get_syn(word):\n",
    "\n",
    "    syns = set()\n",
    "\n",
    "    for s in wordnet.synsets(word):\n",
    "        for sig in s.lemmas():\n",
    "\n",
    "            syn = sig.name().replace('_', ' ').replace('-', ' ').lower()\n",
    "            syn = \"\".join([letra for letra in syn if letra in ' qwertyuiopasdfghjklzxcvbnm'])\n",
    "            syns.add(syn)\n",
    "\n",
    "    if word in syns:\n",
    "        syns.remove(word)\n",
    "\n",
    "    return list(syns)"
   ]
  },
  {
   "cell_type": "code",
   "execution_count": 27,
   "metadata": {
    "scrolled": true
   },
   "outputs": [
    {
     "name": "stdout",
     "output_type": "stream",
     "text": [
      "frase original:  Well. Where to begin. Let's just say this; avoid this movie at all<br /><br />costs. It's based on a cartoon series. The movie makes the cartoon look<br /><br />like Hamlet. Filled with emasculated actors who seem embarrassed to be<br /><br />here, lousy camera work, terrible music, and enough product placement to<br /><br />make you want to never visit Yahoo! again, this movie is really the<br /><br />bottom of the barrel. To quote the New Yorker, Matthew Broderick and<br /><br />Rupert Everett mug their way through this picture with the gay abandon<br /><br />of men who have spotted a rare species of paycheck in the distance.\"<br /><br />They should pay us some of the millions they earned for watching it.<br /><br />Awful.\n",
      "\n",
      "\n",
      "\n",
      "frase aumentada:  well. where to begin. let's scarce say this; avert this movie at allcosts. it's based on a cartoon series. the movie makes the cartoon looklike hamlet. fulfil with cut actors who look embarrassed to behere rotten camera crop terrible music and plenty intersection placement tomake you want to never visit yahoo! again this movie is really thebottom of the barrel. to quote the new yorker matthew broderick andrupert everett mug their way through this picture with the gay abandonof men who have spotted a rarefied species of paycheck in the distance.\"they should pay us close to of the millions they earned for watching it.awful.\n",
      "\n",
      "\n",
      "\n",
      "frase original:  The brilliant thing about Withnail & I is that it captures that not long left college and life could go either way moment along with all its other finery. Freebird is something for those who probably never considered higher education and just went straight to work aged 15/16. I know some of the broad sheets stuck the knife into this film when it came out in Cinemas but i saw it at a packed house in Hailsham and everybody seemed to really enjoy it. I grew up in the forest of Dean and this took me straight back to my mushrooming and dope days (had some great mates - hate to think what they're all up to now - probably running the local council). I've watched it a couple of times on DVD and already i see the film as an old mate that will stay forever as part of my collection (how can i like this film and the Dambusters - doesn't seem right somehow) I certainly edge towards the second half of this film and i think the social interacting scenes with the locals are brilliantly done. I like the mix of the three lead characters and there really is some lovely writing in here along with some very quotable lines and dare i say a good smattering of integrity. I have tried to obtain the soundtrack, but it has not been released (shame, as it's a corker). Someone told me it was originally a stage play, not quite sure how that worked but i'm sure it was fun. I liked the little Shakespearian touches/references that seem to crop up throughout the film (also spotted the Dylan Thomas ref as well) and like all little gems, there will always be little things to discover like the final scene giving a nod to Easyrider as they start they're next journey. All in all a genuinely unpretentious piece of film making (love it!)\n",
      "\n",
      "\n",
      "\n",
      "frase aumentada:  the vivid matter about withnail & i is that information technology captures that not long left college and biography could go either way present moment along with all its other finery. freebird is something for those who probably never deal higher education and just went uncoiled to work aged 15/16. i know some of the broad sheets bind the stab into this motion picture when information technology derive out in cinemas but i saw information technology at a packed house in hailsham and everybody seemed to really savor it. i grew up in the forest of dean and this subscribe to me uncoiled back to my mushrooming and dope days (had some great mates hate to opine what they're all up to right away probably run for the topical anesthetic council). i've view information technology a couple of times along dvd and already i see the motion picture as an onetime mate that leave stay forever as part of my collection (how can i like this motion picture and the dambusters doesn't seem right somehow) i for certain edge towards the second half of this motion picture and i opine the social interact scenes with the locals are bright done. i like the merge of the triad lead characters and there really is some lovely writing in here along with some very repeatable lines and dare i say a good blather of integrity. i have tried to prevail the soundtrack but information technology has not been released (shame as it's a corker). someone told me information technology was originally a stage play not quite sure how that worked but i'm sure information technology was fun. i care the little shakespearian touches/references that seem to crop up throughout the motion picture (also spotted the dylan norman thomas ref as well) and like all little gems there leave always be little things to discover like the final scene pay a nod to easyrider as they start they're next journey. all in all a genuinely unpretentious piece of motion picture making (love it!)\n",
      "\n",
      "\n",
      "\n",
      "frase original:  If a copy of this movie fell into the wrong hands, the world would be in grave danger. I am a huge fan of \"B\" movies, and I have seen my share of bad ones, but there is not a letter in the alphabet that could adequately describe this rancid piece of solidified puke. This movie even surpasses the \"so bad it's good\" phase and goes straight on to the \"so bad your world will seem a little less meaningful for having watched it\" phase.<br /><br />It is hard to say what is more disturbing: .1. The fact that the people who wrote this thought their political satire (I use the term very, very, very loosely) was witty enough to film .2. They were able to find so many other people who agreed with them enough to work on this garbage for obviously little or no money .3. That someone actually thought it would be a good idea to pick this crap up for distribution on a horror anthology DVD.<br /><br />Were I a weaker man, I most likely would have jammed grapefruit spoons into my eyes and then blindly flung myself to my death in oncoming traffic after watching this. As it stands though, I live ,but I am forever scarred by the experience.\n",
      "\n",
      "\n",
      "\n",
      "frase aumentada:  if a written matter of this movie fell into the wrong deal the world would be in grave danger. ane live a brobdingnagian fan of \"b\" movies and ane have seen my divvy up of bad ones but there is not a letter in the alphabet that could adequately describe this rancid piece of solidified puke. this movie level surpasses the \"so bad it's good\" stage and goes straight on to the \"so bad your world leave appear a little less meaningful for having watched it\" phase.it is hard to say what is to a greater extent disturbing: .1. the fact that the the great unwashed who wrote this thought their political satire (i manipulation the term very very very loosely) was witty decent to film .2. they were able to discover and so many other the great unwashed who agreed with them decent to ferment on this food waste for obviously little or no money .3. that somebody actually thought it would be a good idea to pick this crap up for distribution on a horror anthology dvd.were ane a weaker humankind ane most likely would have jammed grapefruit spoons into my eyes and then blindly flung myself to my death in oncoming traffic subsequently watching this. as it endure though ane live but ane live forever scarred by the experience.\n",
      "\n",
      "\n",
      "\n",
      "frase original:  This film is deeply disappointing. Not only that Wenders only displays a very limited musical spectrum of Blues, it is his subjective and personal interest in parts of the music he brings on film that make watching and listening absolutely boring. The only highlight of the movie is the interview of a Swedish couple who were befriended with J.B. Lenoir and show their private video footage as well as tell stories. Wenders's introduction of the filmic topic starts off quite interestingly - alluding to world's culture (or actually, American culture) traveling in space, but his limited looks on the theme as well as the neither funny nor utterly fascinating reproduction of stories from the 30s renders this movie as a mere sleeping aid. Yawn. I had expected more of him.\n",
      "\n",
      "\n",
      "\n",
      "frase aumentada:  this film is deeply disappointing. not only that wenders only display a very limited musical spectrum of blue it is his immanent and personal interest in parts of the music he institute on film that make watching and listen absolutely boring. the only highlight of the movie is the interview of a swedish couple who were befriended with j.b. lenoir and show their private video footage as well as tell stories. wenders's introduction of the filmic topic starts off quite interestingly advert to world's culture (or actually american language culture) traveling in quad but his limited looks on the subject as well as the neither funny nor utterly fascinating reproduction of write up from the 30s renders this movie as a mere catch some zs aid. yawn. i had anticipate to a greater extent of him.\n",
      "\n",
      "\n",
      "\n",
      "frase original:  Honestly, my expectations for Little Bush were low. I was expecting a little cartoon series with lots of fun (but rehashed and overdone) Bush jokes. Apparently I should have lowered my expectations even more.<br /><br />The writing was absolutely pathetic. Aside from the Cheney-Chicken-Eating joke, and some giggly-little swipes, it was really boring and unfunny.<br /><br />The animation was about as sophisticated as a thirteen-year old's Flash Project. It's disgraceful that they used Macromedia's product for this, because it's capable of so much more.<br /><br />I don't like Bush that much, and I enjoy a Bush-joke as much as the next guy, but this was just a half-hour swipe at the President with several painfully un-funny moments. Trey Parker and Matt Stone did so much more with That's My Bush.<br /><br />Do yourself a favor, skip \"Lil' Bush\" and go buy a copy of the short-lived comedy \"That's My Bush\". You'll thank me.\n",
      "\n",
      "\n",
      "\n",
      "frase aumentada:  honestly my expectations for little george w bush were low. i was expecting a little sketch series with lots of playfulness (but retrograde and overdone) george w bush jokes. apparently i should have lowered my expectations even more.the writing was absolutely pathetic. aside from the cheneychickeneating joke and some gigglylittle purloin it was genuinely boring and unfunny.the spiritedness was about as sophisticated as a thirteenyear old's flash project. it's disgraceful that they practice macromedia's ware for this because it's capable of so a great deal more.i don't like george w bush that a great deal and i enjoy a bushjoke as a great deal as the next roast but this was just a halfhour swipe at the president with various painfully unfunny moments. trey parker and matt stone did so a great deal to a greater extent with that's my bush.do yourself a favor skip \"lil' bush\" and move corrupt a copy of the shortlived comedy \"that's my bush\". you'll thank me.\n",
      "\n",
      "\n",
      "\n",
      "frase original:  Last year's remake of 'The Hills Have Eyes' was one of the better attempts to update the vaguely exploitational horror flicks of the 1970s for a new audience. Alexandre Aja allowed for an admirable degree of character development and when the violence started it was mean and savage and all carried out in a landscape of impeccable photography and production design. I was one of the few people who actually thought that it was better than the original and looked forward to a second visit to the particularly dark and cruel world of the savage desert mutants.<br /><br />'The Hills have Eyes 2', released just a year after the original, seems a rushed and ill-conceived attempt to cash in on the franchise with little thought to quality. Jonathan Craven's screenplay could have been written in a weekend, and given the speed with which this movie made it into cinemas, probably was. It falls back on every hackneyed genre cliché in the book while offering absolutely nothing new to the desert mutant mythology. I always let out a groan of disappointment when a sequel replaces civilian characters with the military. Soldiers are always so lazily written and never fail to thoroughly bore with crude caricatures of strutting macho bullshit. In my mind, 'Aliens' was the only movie to successfully make such a transition, due to James Cameron's talent, not simply for directing the best action sequences around, but never forgetting that an audience has to care about the people being butchered. He was also ably assisted by some genuinely talented actors. With 'The Hills have Eyes 2', it's clear that video director Martin Weisz is no James Cameron, and the cast of television bit-parters haven't the talent or even the inclination to turn their cardboard cutout characters into anything approaching living, breathing human beings.<br /><br />Needless to say, every character is a broad and generic cliché. They act in dumb and illogical ways, making dumb and illogical decisions that lead them to predictably dumb and illogical deaths. The latter half of the movie becomes just another tedious chased-through-dark-corridors scenario. 'The Descent' (on which Sam McCurdy, coincidentally, also worked as cinematography) proved that even this most derivative of sequences can still be carried out with genuine originality and suspense, but we see no such innovation here.<br /><br />'The Hills Have Eyes 2' is just a very lazy movie, devoid of any suspense, tension, or surprise, with not a single individual involved remotely interested in producing anything of quality. It's a tame and tired excuse for a sequel and deserves to spend the rest of its life in a Blockbuster's bargain bin.\n",
      "\n",
      "\n",
      "\n",
      "frase aumentada:  last year's remake of 'the hills have eyes' was one of the secure attack to update the vaguely exploitational horror flicks of the seventies for a new audience. alexandre aja allowed for an admirable degree of role development and when the fury started information technology was mean and savage and entirely carried out in a landscape of impeccable picture taking and production design. one was one of the few people who actually thought that information technology was secure than the original and looked forward to a second visit to the particularly dark and cruel humanity of the savage desert mutants.'the hills have eyes 2' released just a year after the original appear a rushed and illconceived attempt to cash in on the franchise with little thought to quality. jonathan craven's screenplay could have been written in a weekend and apt the speed with which this movie shit information technology into cinemas probably was. information technology falls back on every hackneyed writing style cliché in the rule book piece offering absolutely nada new to the desert mutant mythology. one constantly have out a groan of letdown when a subsequence replaces civilian type with the military. soldiers are constantly so lazily written and never fail to thoroughly bore with crude caricatures of strutting macho bullshit. in my mind 'aliens' was the only movie to successfully make such a passage due to james cameron's talent not merely for directing the right action successiveness more or less but never forgetting that an audience has to care about the people being butchered. helium was also ably assisted by some genuinely gifted actors. with 'the hills have eyes 2' it's clear that video music director martin weisz be no james cameron and the throw up of television bitparters haven't the talent or even the inclination to turn their cardboard cutout type into anything draw near living breathing human beings.needless to aver every role be a full and generic cliché. they routine in dumb and illogical ways work dumb and illogical decisions that lead in them to predictably dumb and illogical deaths. the latter half of the movie becomes just another tedious chasedthroughdarkcorridors scenario. 'the descent' (on which sam mccurdy coincidently also worked as cinematography) proved that even this most derivative of successiveness can still be carried out with genuine originality and suspense but we see no such design here.'the hills have eyes 2' be just a very lazy movie destitute of any suspense latent hostility or surprise with not a undivided somebody involved remotely interested in producing anything of quality. it's a tame and tired excuse for a subsequence and deserves to spend the rest of its life in a blockbuster's bargain bin.\n",
      "\n",
      "\n",
      "\n",
      "frase original:  Joan Crawford is convincingly disfigured as our story starts, and of course she get fixed up. But she's a bad egg, exploiting one guy, while living out another guy's anti-social philosophy. All of this takes place in Sweden, which is truly bizarre. It causes anything and everything memorable in the visuals, which are freed from having to depict Anytown USA, but it makes a viewer wonder why every remake since is burdened and rendered unspecific by the need to Americanize everything. There is plot, plot, plot so chatty that you could drown in it, and making matters worse is a framing device that adds zilch to the movie. The photography is occasionally nice, with odd angles and miniatures incorporated quite well. But it's overwrought without ever once drawing you in.\n",
      "\n",
      "\n",
      "\n",
      "frase aumentada:  joan crawford is convincingly disfigured as our story starts and of feed she get fixed up. but she's a bad testicle exploiting one bozo spell living out another guy's antisocial philosophy. all of this takes plaza in kingdom of sweden which is truly bizarre. it causes anything and everything memorable in the visuals which are freed from having to depict anytown usa but it pretend a viewer wonder why every remake since is burdened and rendered broad by the pauperism to americanize everything. at that place is plot plot plot so chatty that you could drown in it and making matters worse is a framing device that adds zilch to the movie. the picture taking is occasionally nice with odd angles and miniatures corporate quite well. but it's overwrought without always once drawing you in.\n",
      "\n",
      "\n",
      "\n",
      "frase original:  This film has some of the greatest comedic dialog and memorable quotes ever assembled in one film! The plot is somewhat lacking, but the delightful quips are enough to make up the difference. This is a timeless movie for all ages that is sure to please. As a cinematic art form it is highly entertaining; and with major stars like Cary Grant, Myrna Loy, and Melvyn Douglas... how could you go wrong? <br /><br />Comedic dialog and timeing such as this has long been undervalued, and is very difficult to imitate. A good example of this is seen in the 1986 knockoff of this film: The Money Pit, with Tom Hanks and Shelley Long. Despite the talent and physical comedy of these stars, the film dragged and received poor reviews and viewer comments. Achieving true comedic dialog is an art.\n",
      "\n",
      "\n",
      "\n",
      "frase aumentada:  this moving picture has just about of the smashing comedic dialog and memorable quotes ever assembled in unmatched film! the diagram is fairly lacking simply the delightful quips are enough to make up the difference. this is a timeless moving picture for all ages that is sure to please. as a cinematic art form information technology is highly entertaining; and with major stars like cary duncan james corrow grant myrna loy and melvyn douglas... how could you rifle wrong? comedic dialog and timeing such as this has long been devaluate and is very difficult to imitate. a good example of this is seen in the 1986 knockoff of this film: the money pit with tom hanks and shelley long. despite the talent and physical comedy of these stars the moving picture dragged and received poor reviews and looker comments. accomplish true comedic dialog is an art.\n",
      "\n",
      "\n",
      "\n",
      "frase original:  Man alive, is this game bad or what? The graphics are way below par, even if it were on a playstation 1, never mind a Gamecube. The gameplay is pathetic and the camera movements disorientating. What a worthless game!<br /><br />I totally love Warner's Batman animation and it's cool that they do all the games in this way. Batman: Vengeance could well have turned out great as they got off to a good start by keeping all the Gothic visuals and voice actors but they seriously stumbled when it came to playability and graphics. The result is a boring game that looks incredibly cheap and is no fun to play whatsoever. I really must stress how bad the graphics are. Don't let the color schemes fool you. I've seen better stuff on a Commodore 64.\n",
      "\n",
      "\n",
      "\n",
      "frase aumentada:  man alert is this game high risk or what? the graphics personify way below par fifty fifty if it were on a playstation 1 neer beware a gamecube. the gameplay is pathetic and the camera movements disorientating. what a worthless game!i totally love warner's batman animation and it's cool that they do all the gage in this way. batman: vengeance could well have turned out great as they got off to a good pop by hold all the gothic architecture visuals and phonation actors but they seriously stumbled when it came to playability and graphics. the result is a boring game that looks incredibly cheap and is no sport to play whatsoever. i really must stress how high risk the graphics are. don't let the color schemes fool you. i've realize sound stuff on a commodore 64.\n",
      "\n",
      "\n",
      "\n",
      "frase original:  A heist film with Jean Reno, Matt Damon and Laurence Fishburne... sounds great on paper? I suspect it must have done when someone green lighted the production of this movie but the end product is terrible!<br /><br />The story is dull, the action boring, and, for a film that is only 88 minutes it seems to just drag on. I could feel my life slipping away and was sure there was something better I should have been doing... any paint to watch dry somewhere perhaps?<br /><br />Sigh. I'm a huge fan of Jean Reno, but what on earth was he thinking when he signed up to this? There are so many other great action movies around... go watch one of those and let this movie be best forgotten.\n",
      "\n",
      "\n",
      "\n",
      "frase aumentada:  a heist film with jean reno flat damon and laurence fishburne... go great on paper? unity suspect it must have done when someone green lighted the production of this moving picture but the end product is terrible!the story is dull the action boring and for a film that is exclusively 88 minutes it seems to just cart on. unity could feel my life slipping away and was sure there was something better unity should have live doing... any paint to watch dry somewhere perhaps?sigh. i'm a huge fan of jean reno but what on earthly concern was he thinking when he signed up to this? there are so many early great action pic around... go watch matchless of those and let this moving picture live right forgotten.\n",
      "\n",
      "\n",
      "\n"
     ]
    }
   ],
   "source": [
    "for frase in X_augmentation:\n",
    "    text_aug = clean_sentence(frase)\n",
    "    \n",
    "    print('frase original: ', end=\" \")\n",
    "    print(frase)\n",
    "    print('\\n\\n')\n",
    "    print('frase aumentada: ', end=\" \")\n",
    "    print(SR(text_aug, 0.1*len(text_aug)))\n",
    "    print('\\n\\n')"
   ]
  },
  {
   "cell_type": "code",
   "execution_count": 28,
   "metadata": {},
   "outputs": [
    {
     "data": {
      "text/plain": [
       "47186    Well. Where to begin. Let's just say this; avo...\n",
       "7714     The brilliant thing about Withnail & I is that...\n",
       "7141     If a copy of this movie fell into the wrong ha...\n",
       "14998    This film is deeply disappointing. Not only th...\n",
       "36745    Honestly, my expectations for Little Bush were...\n",
       "26818    Last year's remake of 'The Hills Have Eyes' wa...\n",
       "43679    Joan Crawford is convincingly disfigured as ou...\n",
       "45822    This film has some of the greatest comedic dia...\n",
       "17689    Man alive, is this game bad or what? The graph...\n",
       "24574    A heist film with Jean Reno, Matt Damon and La...\n",
       "Name: review, dtype: object"
      ]
     },
     "execution_count": 28,
     "metadata": {},
     "output_type": "execute_result"
    }
   ],
   "source": [
    "X_augmentation"
   ]
  },
  {
   "cell_type": "code",
   "execution_count": 29,
   "metadata": {},
   "outputs": [],
   "source": [
    "from textblob.classifiers import NaiveBayesClassifier\n",
    "from textblob import TextBlob"
   ]
  },
  {
   "cell_type": "code",
   "execution_count": 41,
   "metadata": {},
   "outputs": [
    {
     "data": {
      "text/html": [
       "<div>\n",
       "<style scoped>\n",
       "    .dataframe tbody tr th:only-of-type {\n",
       "        vertical-align: middle;\n",
       "    }\n",
       "\n",
       "    .dataframe tbody tr th {\n",
       "        vertical-align: top;\n",
       "    }\n",
       "\n",
       "    .dataframe thead th {\n",
       "        text-align: right;\n",
       "    }\n",
       "</style>\n",
       "<table border=\"1\" class=\"dataframe\">\n",
       "  <thead>\n",
       "    <tr style=\"text-align: right;\">\n",
       "      <th></th>\n",
       "      <th>frases</th>\n",
       "      <th>sentimento</th>\n",
       "    </tr>\n",
       "  </thead>\n",
       "  <tbody>\n",
       "    <tr>\n",
       "      <th>0</th>\n",
       "      <td>One of the other reviewers has mentioned that ...</td>\n",
       "      <td>positive</td>\n",
       "    </tr>\n",
       "    <tr>\n",
       "      <th>1</th>\n",
       "      <td>A wonderful little production. &lt;br /&gt;&lt;br /&gt;The...</td>\n",
       "      <td>positive</td>\n",
       "    </tr>\n",
       "    <tr>\n",
       "      <th>2</th>\n",
       "      <td>I thought this was a wonderful way to spend ti...</td>\n",
       "      <td>positive</td>\n",
       "    </tr>\n",
       "    <tr>\n",
       "      <th>3</th>\n",
       "      <td>Basically there's a family where a little boy ...</td>\n",
       "      <td>negative</td>\n",
       "    </tr>\n",
       "    <tr>\n",
       "      <th>4</th>\n",
       "      <td>Petter Mattei's \"Love in the Time of Money\" is...</td>\n",
       "      <td>positive</td>\n",
       "    </tr>\n",
       "    <tr>\n",
       "      <th>...</th>\n",
       "      <td>...</td>\n",
       "      <td>...</td>\n",
       "    </tr>\n",
       "    <tr>\n",
       "      <th>49985</th>\n",
       "      <td>Imaginary Heroes is clearly the best film of t...</td>\n",
       "      <td>positive</td>\n",
       "    </tr>\n",
       "    <tr>\n",
       "      <th>49986</th>\n",
       "      <td>This movie is a disgrace to the Major League F...</td>\n",
       "      <td>negative</td>\n",
       "    </tr>\n",
       "    <tr>\n",
       "      <th>49987</th>\n",
       "      <td>A remake of Alejandro Amenabar's Abre los Ojos...</td>\n",
       "      <td>negative</td>\n",
       "    </tr>\n",
       "    <tr>\n",
       "      <th>49988</th>\n",
       "      <td>When I first tuned in on this morning news, I ...</td>\n",
       "      <td>negative</td>\n",
       "    </tr>\n",
       "    <tr>\n",
       "      <th>49989</th>\n",
       "      <td>I got this one a few weeks ago and love it! It...</td>\n",
       "      <td>positive</td>\n",
       "    </tr>\n",
       "  </tbody>\n",
       "</table>\n",
       "<p>49990 rows × 2 columns</p>\n",
       "</div>"
      ],
      "text/plain": [
       "                                                  frases sentimento\n",
       "0      One of the other reviewers has mentioned that ...   positive\n",
       "1      A wonderful little production. <br /><br />The...   positive\n",
       "2      I thought this was a wonderful way to spend ti...   positive\n",
       "3      Basically there's a family where a little boy ...   negative\n",
       "4      Petter Mattei's \"Love in the Time of Money\" is...   positive\n",
       "...                                                  ...        ...\n",
       "49985  Imaginary Heroes is clearly the best film of t...   positive\n",
       "49986  This movie is a disgrace to the Major League F...   negative\n",
       "49987  A remake of Alejandro Amenabar's Abre los Ojos...   negative\n",
       "49988  When I first tuned in on this morning news, I ...   negative\n",
       "49989  I got this one a few weeks ago and love it! It...   positive\n",
       "\n",
       "[49990 rows x 2 columns]"
      ]
     },
     "execution_count": 41,
     "metadata": {},
     "output_type": "execute_result"
    }
   ],
   "source": [
    "train_set = pd.DataFrame(data={'frases':X_train , 'sentimento':Y_train})\n",
    "test_set = pd.DataFrame(data={'frases':X_test, 'sentimento':Y_test})\n",
    "train_set"
   ]
  },
  {
   "cell_type": "code",
   "execution_count": 67,
   "metadata": {},
   "outputs": [],
   "source": [
    "lista_frases = [frase for frase in X_train]\n",
    "lista_sentimento = [sentimento for sentimento in Y_train]\n",
    "\n",
    "juntando = []\n",
    "\n",
    "for i in range(1000):\n",
    "    juntando.append((lista_frases[i] ,lista_sentimento[i]))\n",
    "\n"
   ]
  },
  {
   "cell_type": "code",
   "execution_count": 68,
   "metadata": {},
   "outputs": [],
   "source": [
    "lista_frases_test = [frase for frase in X_test]\n",
    "lista_sentimento_test = [sentimento for sentimento in Y_test]\n",
    "\n",
    "juntando_test = []\n",
    "\n",
    "for i in range(1000):\n",
    "    juntando_test.append((lista_frases_test[i] , lista_sentimento_test[i]))"
   ]
  },
  {
   "cell_type": "code",
   "execution_count": 69,
   "metadata": {},
   "outputs": [],
   "source": [
    "cl = NaiveBayesClassifier(juntando)"
   ]
  },
  {
   "cell_type": "code",
   "execution_count": 70,
   "metadata": {},
   "outputs": [],
   "source": [
    "accuracy = cl.accuracy(juntando_test)"
   ]
  },
  {
   "cell_type": "code",
   "execution_count": 72,
   "metadata": {},
   "outputs": [
    {
     "name": "stdout",
     "output_type": "stream",
     "text": [
      "Esta frase é de caráter:negative\n",
      "Precisão da previsão:0.783\n"
     ]
    }
   ],
   "source": [
    "frasee = 'I hate you'\n",
    "\n",
    "blob = TextBlob(frasee,classifier=cl)\n",
    "\n",
    "print('Esta frase é de caráter:{}'.format(blob.classify()))\n",
    "print('Precisão da previsão:{}'.format(accuracy))"
   ]
  },
  {
   "cell_type": "code",
   "execution_count": null,
   "metadata": {},
   "outputs": [],
   "source": []
  }
 ],
 "metadata": {
  "kernelspec": {
   "display_name": "Python 3",
   "language": "python",
   "name": "python3"
  },
  "language_info": {
   "codemirror_mode": {
    "name": "ipython",
    "version": 3
   },
   "file_extension": ".py",
   "mimetype": "text/x-python",
   "name": "python",
   "nbconvert_exporter": "python",
   "pygments_lexer": "ipython3",
   "version": "3.7.9"
  }
 },
 "nbformat": 4,
 "nbformat_minor": 2
}
